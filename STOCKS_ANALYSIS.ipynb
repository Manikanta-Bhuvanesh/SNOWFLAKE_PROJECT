{
 "metadata": {
  "kernelspec": {
   "display_name": "Streamlit Notebook",
   "name": "streamlit"
  },
  "lastEditStatus": {
   "notebookId": "ifevu6rutl5fym6yuprk",
   "authorId": "7782386948972",
   "authorName": "BHUVANESHVALIVETI",
   "authorEmail": "bhuvanesh.valiveti@gmail.com",
   "sessionId": "7b34c0f6-c3b8-43e1-9011-e8acff29da90",
   "lastEditTime": 1749658301010
  }
 },
 "nbformat_minor": 5,
 "nbformat": 4,
 "cells": [
  {
   "cell_type": "markdown",
   "id": "e339b396-749b-4998-a30f-503954e21530",
   "metadata": {
    "name": "cell27",
    "collapsed": false
   },
   "source": "## RAW DATA TABLE"
  },
  {
   "cell_type": "code",
   "id": "3ee5c246-ec90-413b-b1f7-90f76e9b4641",
   "metadata": {
    "language": "sql",
    "name": "cell28"
   },
   "outputs": [],
   "source": "create or replace TABLE STOCKS_DB.STOCKS_INFO.STOCKS_DATA (\n\tSYMBOL VARCHAR(16777216),\n\tTICKER_TIME TIMESTAMP_NTZ(9),\n\tCLOSE FLOAT,\n\tOPEN FLOAT,\n\tHIGH FLOAT,\n\tLOW FLOAT,\n\tVOLUME FLOAT,\n\tLAST_UPDATED_AT TIMESTAMP_NTZ(9)\n);",
   "execution_count": null
  },
  {
   "cell_type": "markdown",
   "id": "b9a2f28b-a658-4016-98ec-d51d6518ad0c",
   "metadata": {
    "name": "cell10",
    "collapsed": false
   },
   "source": "## NORMALIZATION TO SNOWFLAKE SCHEMA"
  },
  {
   "cell_type": "code",
   "id": "ea868e9b-f89c-466d-85b8-2f4b264218e2",
   "metadata": {
    "language": "sql",
    "name": "cell3"
   },
   "outputs": [],
   "source": "CREATE OR REPLACE TABLE STOCKS_DB.STOCKS_ANALYTICS.DIM_STOCK (\n    STOCK_ID INT AUTOINCREMENT PRIMARY KEY,\n    SYMBOL VARCHAR NOT NULL UNIQUE\n);\n\nCREATE OR REPLACE TABLE STOCKS_DB.STOCKS_ANALYTICS.DIM_DATE (\n    DATE_ID INT AUTOINCREMENT PRIMARY KEY,\n    TICKER_TIME TIMESTAMP_NTZ(9) NOT NULL UNIQUE,\n    TRADE_DATE DATE,\n    TRADE_HOUR INT,\n    TRADE_MINUTE INT,\n    DAY_OF_WEEK STRING,\n    MONTH INT,\n    YEAR INT\n);\n\nCREATE OR REPLACE TABLE STOCKS_DB.STOCKS_ANALYTICS.FACT_STOCK_PRICE (\n    STOCK_ID INT,\n    DATE_ID INT,\n    TICKER_TIME TIMESTAMP_NTZ(9),\n    OPEN FLOAT,\n    HIGH FLOAT,\n    LOW FLOAT,\n    CLOSE FLOAT,\n    VOLUME FLOAT,\n    LAST_UPDATED_AT TIMESTAMP_NTZ(9),\n    PRIMARY KEY (STOCK_ID, TICKER_TIME),\n    FOREIGN KEY (STOCK_ID) REFERENCES STOCKS_DB.STOCKS_ANALYTICS.DIM_STOCK(STOCK_ID),\n    FOREIGN KEY (DATE_ID) REFERENCES STOCKS_DB.STOCKS_ANALYTICS.DIM_DATE(DATE_ID)\n);\n",
   "execution_count": null
  },
  {
   "cell_type": "markdown",
   "id": "fb1e2074-c908-49cd-933f-ed0418a16ced",
   "metadata": {
    "name": "cell11",
    "collapsed": false
   },
   "source": "### ONE-TIME LOAD OF DIM AND FACT TABLES"
  },
  {
   "cell_type": "code",
   "id": "2e8cb65e-3a7d-4c04-ac7d-baae2cc2888e",
   "metadata": {
    "language": "sql",
    "name": "cell1"
   },
   "outputs": [],
   "source": "INSERT INTO STOCKS_DB.STOCKS_ANALYTICS.DIM_STOCK (SYMBOL)\nSELECT DISTINCT SYMBOL\nFROM STOCKS_DB.STOCKS_INFO.STOCKS_DATA\nWHERE SYMBOL NOT IN (\n    SELECT SYMBOL FROM STOCKS_DB.STOCKS_ANALYTICS.DIM_STOCK\n);\n",
   "execution_count": null
  },
  {
   "cell_type": "code",
   "id": "6224d16a-bb04-40bd-8d3a-3ff8b934d26c",
   "metadata": {
    "language": "sql",
    "name": "cell4"
   },
   "outputs": [],
   "source": "INSERT INTO STOCKS_DB.STOCKS_ANALYTICS.DIM_DATE (\n    TICKER_TIME, TRADE_DATE, TRADE_HOUR, TRADE_MINUTE, \n    DAY_OF_WEEK, MONTH, YEAR\n)\nSELECT DISTINCT \n    TICKER_TIME,\n    CAST(TICKER_TIME AS DATE),\n    EXTRACT(HOUR FROM TICKER_TIME),\n    EXTRACT(MINUTE FROM TICKER_TIME),\n    TO_CHAR(TICKER_TIME, 'DY'),\n    EXTRACT(MONTH FROM TICKER_TIME),\n    EXTRACT(YEAR FROM TICKER_TIME)\nFROM STOCKS_DB.STOCKS_INFO.STOCKS_DATA\nWHERE TICKER_TIME NOT IN (\n    SELECT TICKER_TIME FROM STOCKS_DB.STOCKS_ANALYTICS.DIM_DATE\n);\n",
   "execution_count": null
  },
  {
   "cell_type": "code",
   "id": "71d42cba-ad2a-4969-bb89-31cf58893e6e",
   "metadata": {
    "language": "sql",
    "name": "cell5"
   },
   "outputs": [],
   "source": "INSERT INTO STOCKS_DB.STOCKS_ANALYTICS.FACT_STOCK_PRICE (\n    STOCK_ID, DATE_ID, TICKER_TIME,\n    OPEN, HIGH, LOW, CLOSE, VOLUME, LAST_UPDATED_AT\n)\nSELECT \n    s.STOCK_ID,\n    d.DATE_ID,\n    r.TICKER_TIME,\n    r.OPEN,\n    r.HIGH,\n    r.LOW,\n    r.CLOSE,\n    r.VOLUME,\n    r.LAST_UPDATED_AT\nFROM STOCKS_DB.STOCKS_INFO.STOCKS_DATA r\nJOIN STOCKS_DB.STOCKS_ANALYTICS.DIM_STOCK s ON r.SYMBOL = s.SYMBOL\nJOIN STOCKS_DB.STOCKS_ANALYTICS.DIM_DATE d ON r.TICKER_TIME = d.TICKER_TIME\nWHERE NOT EXISTS (\n    SELECT 1 \n    FROM STOCKS_DB.STOCKS_ANALYTICS.FACT_STOCK_PRICE f\n    WHERE f.STOCK_ID = s.STOCK_ID AND f.TICKER_TIME = r.TICKER_TIME\n);\n",
   "execution_count": null
  },
  {
   "cell_type": "markdown",
   "id": "d53d6e62-e969-4b41-8029-2cdaad3d78fd",
   "metadata": {
    "name": "cell12",
    "collapsed": false
   },
   "source": "## PROCEDURE TO INCREMENTALLY LOAD THE TABLES USING RAW TABLE"
  },
  {
   "cell_type": "code",
   "id": "8f126eb1-f18d-4894-8789-23e9ac1b30dd",
   "metadata": {
    "language": "sql",
    "name": "cell2"
   },
   "outputs": [],
   "source": "CREATE OR REPLACE PROCEDURE STOCKS_DB.STOCKS_ANALYTICS.SP_INCREMENTAL_LOAD()\nRETURNS STRING\nLANGUAGE SQL\nAS\n$$\n-- Begin Transaction\nBEGIN\n\n-- Step 1: Load DIM_STOCK\nINSERT INTO STOCKS_DB.STOCKS_ANALYTICS.DIM_STOCK (SYMBOL)\nSELECT DISTINCT SYMBOL\nFROM STOCKS_DB.STOCKS_INFO.STOCKS_DATA r\nWHERE SYMBOL NOT IN (\n    SELECT SYMBOL FROM STOCKS_DB.STOCKS_ANALYTICS.DIM_STOCK\n);\n\n-- Step 2: Load DIM_DATE\nINSERT INTO STOCKS_DB.STOCKS_ANALYTICS.DIM_DATE (\n    TICKER_TIME, TRADE_DATE, TRADE_HOUR, TRADE_MINUTE, \n    DAY_OF_WEEK, MONTH, YEAR\n)\nSELECT DISTINCT \n    r.TICKER_TIME,\n    CAST(r.TICKER_TIME AS DATE),\n    EXTRACT(HOUR FROM r.TICKER_TIME),\n    EXTRACT(MINUTE FROM r.TICKER_TIME),\n    TO_CHAR(r.TICKER_TIME, 'DY'),\n    EXTRACT(MONTH FROM r.TICKER_TIME),\n    EXTRACT(YEAR FROM r.TICKER_TIME)\nFROM STOCKS_DB.STOCKS_INFO.STOCKS_DATA r\nWHERE r.TICKER_TIME NOT IN (\n    SELECT TICKER_TIME FROM STOCKS_DB.STOCKS_ANALYTICS.DIM_DATE\n);\n\n-- Step 3: Upsert FACT_STOCK_PRICE\nMERGE INTO STOCKS_DB.STOCKS_ANALYTICS.FACT_STOCK_PRICE AS tgt\nUSING (\n    SELECT \n        r.SYMBOL,\n        r.TICKER_TIME,\n        r.OPEN, r.HIGH, r.LOW, r.CLOSE, r.VOLUME, r.LAST_UPDATED_AT,\n        s.STOCK_ID,\n        d.DATE_ID\n    FROM STOCKS_DB.STOCKS_INFO.STOCKS_DATA r\n    JOIN STOCKS_DB.STOCKS_ANALYTICS.DIM_STOCK s ON r.SYMBOL = s.SYMBOL\n    JOIN STOCKS_DB.STOCKS_ANALYTICS.DIM_DATE d ON r.TICKER_TIME = d.TICKER_TIME\n) AS src\nON tgt.STOCK_ID = src.STOCK_ID AND tgt.TICKER_TIME = src.TICKER_TIME\n\nWHEN MATCHED AND (\n    tgt.OPEN != src.OPEN OR\n    tgt.HIGH != src.HIGH OR\n    tgt.LOW != src.LOW OR\n    tgt.CLOSE != src.CLOSE OR\n    tgt.VOLUME != src.VOLUME OR\n    tgt.LAST_UPDATED_AT != src.LAST_UPDATED_AT\n)\nTHEN UPDATE SET\n    OPEN = src.OPEN,\n    HIGH = src.HIGH,\n    LOW = src.LOW,\n    CLOSE = src.CLOSE,\n    VOLUME = src.VOLUME,\n    LAST_UPDATED_AT = src.LAST_UPDATED_AT\n\nWHEN NOT MATCHED THEN\nINSERT (\n    STOCK_ID, DATE_ID, TICKER_TIME, \n    OPEN, HIGH, LOW, CLOSE, VOLUME, LAST_UPDATED_AT\n)\nVALUES (\n    src.STOCK_ID, src.DATE_ID, src.TICKER_TIME,\n    src.OPEN, src.HIGH, src.LOW, src.CLOSE, src.VOLUME, src.LAST_UPDATED_AT\n);\n\n-- End Transaction\nRETURN 'Incremental load completed successfully.';\n\nEND;\n$$;\n",
   "execution_count": null
  },
  {
   "cell_type": "code",
   "id": "5f1b36ab-2156-4459-bf92-01817f77c411",
   "metadata": {
    "language": "sql",
    "name": "cell6"
   },
   "outputs": [],
   "source": "CALL STOCKS_DB.STOCKS_ANALYTICS.SP_INCREMENTAL_LOAD();",
   "execution_count": null
  },
  {
   "cell_type": "markdown",
   "id": "1f422b29-d836-4011-870f-d091b828e82b",
   "metadata": {
    "name": "cell13",
    "collapsed": false
   },
   "source": "## CREATION OF TASK TO RUN FOR EVERY 5 MIN"
  },
  {
   "cell_type": "code",
   "id": "8da74123-d1fe-464d-bcf2-d60450c6d778",
   "metadata": {
    "language": "sql",
    "name": "cell7"
   },
   "outputs": [],
   "source": "CREATE OR REPLACE TASK STOCKS_DB.STOCKS_ANALYTICS.TASK_INCREMENTAL_LOAD\nWAREHOUSE = COMPUTE_WH  \nSCHEDULE = '5 MINUTE'\nAS\nCALL STOCKS_DB.STOCKS_ANALYTICS.SP_INCREMENTAL_LOAD();",
   "execution_count": null
  },
  {
   "cell_type": "code",
   "id": "905b6934-eb82-4e7d-b51d-d0e836d75454",
   "metadata": {
    "language": "sql",
    "name": "cell8"
   },
   "outputs": [],
   "source": "ALTER TASK STOCKS_DB.STOCKS_ANALYTICS.TASK_INCREMENTAL_LOAD RESUME;",
   "execution_count": null
  },
  {
   "cell_type": "code",
   "id": "75503e20-67b2-42cc-a20e-25db3a22fe01",
   "metadata": {
    "language": "sql",
    "name": "cell9"
   },
   "outputs": [],
   "source": "SHOW TASKS IN SCHEMA STOCKS_DB.STOCKS_ANALYTICS;\n\nSELECT *\nFROM TABLE(INFORMATION_SCHEMA.TASK_HISTORY(\n    TASK_NAME => 'TASK_INCREMENTAL_LOAD',\n    RESULT_LIMIT => 10\n));\n",
   "execution_count": null
  },
  {
   "cell_type": "markdown",
   "id": "9dccd165-8b23-4c5e-a22e-b53ff1c69ca6",
   "metadata": {
    "name": "cell14",
    "collapsed": false
   },
   "source": "## Materialized Views (for Fast Reporting / Dashboards)"
  },
  {
   "cell_type": "markdown",
   "id": "27debd0b-9f2d-4826-8165-7aa7c2ac97ff",
   "metadata": {
    "name": "cell15",
    "collapsed": false
   },
   "source": "### Daily OHLC + Volume Summary by Stock"
  },
  {
   "cell_type": "code",
   "id": "66f95317-bf18-4bc1-82dc-a24262e09062",
   "metadata": {
    "language": "sql",
    "name": "cell16"
   },
   "outputs": [],
   "source": "CREATE OR REPLACE VIEW STOCKS_DB.STOCKS_ANALYTICS.VW_DAILY_OHLC_SUMMARY\nAS\nSELECT\n    ds.SYMBOL,\n    dd.TRADE_DATE,\n    MIN(fsp.OPEN) AS OPEN_PRICE,\n    MAX(fsp.HIGH) AS HIGH_PRICE,\n    MIN(fsp.LOW) AS LOW_PRICE,\n    MAX(fsp.CLOSE) AS CLOSE_PRICE,\n    SUM(fsp.VOLUME) AS TOTAL_VOLUME\nFROM STOCKS_DB.STOCKS_ANALYTICS.FACT_STOCK_PRICE fsp\nJOIN STOCKS_DB.STOCKS_ANALYTICS.DIM_STOCK ds ON fsp.STOCK_ID = ds.STOCK_ID\nJOIN STOCKS_DB.STOCKS_ANALYTICS.DIM_DATE dd ON fsp.DATE_ID = dd.DATE_ID\nGROUP BY ds.SYMBOL, dd.TRADE_DATE;",
   "execution_count": null
  },
  {
   "cell_type": "markdown",
   "id": "4f720ec3-bb2f-48a6-ad1a-d97635d8d010",
   "metadata": {
    "name": "cell17",
    "collapsed": false
   },
   "source": "### Minute-Level Price Snapshot (Last 1 Hour)"
  },
  {
   "cell_type": "code",
   "id": "21980c46-9874-4eda-812f-256b68aec689",
   "metadata": {
    "language": "sql",
    "name": "cell18"
   },
   "outputs": [],
   "source": "CREATE OR REPLACE VIEW STOCKS_DB.STOCKS_ANALYTICS.VW_LAST_1_HOUR_PRICES\nAS\nSELECT\n    ds.SYMBOL,\n    fsp.TICKER_TIME,\n    fsp.OPEN,\n    fsp.HIGH,\n    fsp.LOW,\n    fsp.CLOSE,\n    fsp.VOLUME\nFROM STOCKS_DB.STOCKS_ANALYTICS.FACT_STOCK_PRICE fsp\nJOIN STOCKS_DB.STOCKS_ANALYTICS.DIM_STOCK ds ON fsp.STOCK_ID = ds.STOCK_ID\nWHERE fsp.TICKER_TIME >= DATEADD(HOUR, -1, CURRENT_TIMESTAMP());\n",
   "execution_count": null
  },
  {
   "cell_type": "markdown",
   "id": "d8836a07-bf1a-43ea-8880-c9ef72809d75",
   "metadata": {
    "name": "cell19",
    "collapsed": false
   },
   "source": "### Top 10 Most Traded Stocks (Today)"
  },
  {
   "cell_type": "code",
   "id": "0c07d571-b90b-4f91-8733-7bf22d0024d7",
   "metadata": {
    "language": "sql",
    "name": "cell20"
   },
   "outputs": [],
   "source": "CREATE OR REPLACE VIEW STOCKS_DB.STOCKS_ANALYTICS.VW_TODAY_TOP_TRADED\nAS\nSELECT\n    ds.SYMBOL,\n    SUM(fsp.VOLUME) AS TOTAL_VOLUME\nFROM STOCKS_DB.STOCKS_ANALYTICS.FACT_STOCK_PRICE fsp\nJOIN STOCKS_DB.STOCKS_ANALYTICS.DIM_STOCK ds ON fsp.STOCK_ID = ds.STOCK_ID\nJOIN STOCKS_DB.STOCKS_ANALYTICS.DIM_DATE dd ON fsp.DATE_ID = dd.DATE_ID\nWHERE dd.TRADE_DATE = CURRENT_DATE()\nGROUP BY ds.SYMBOL\nORDER BY TOTAL_VOLUME DESC\nLIMIT 10;",
   "execution_count": null
  },
  {
   "cell_type": "markdown",
   "id": "b72ff4db-5ca5-4605-bb47-6677e02a67f9",
   "metadata": {
    "name": "cell21",
    "collapsed": false
   },
   "source": "### Top Gainers in Last 1 Hour"
  },
  {
   "cell_type": "code",
   "id": "d9a2659c-677d-425f-bf9f-47fc8415080c",
   "metadata": {
    "language": "sql",
    "name": "cell22"
   },
   "outputs": [],
   "source": "CREATE OR REPLACE VIEW STOCKS_DB.STOCKS_ANALYTICS.VW_TOP_GAINERS_LAST_1_HOUR AS\nWITH prices AS (\n    SELECT\n        ds.SYMBOL,\n        fsp.TICKER_TIME,\n        fsp.CLOSE,\n        ROW_NUMBER() OVER (PARTITION BY ds.SYMBOL ORDER BY fsp.TICKER_TIME ASC) AS rn_asc,\n        ROW_NUMBER() OVER (PARTITION BY ds.SYMBOL ORDER BY fsp.TICKER_TIME DESC) AS rn_desc\n    FROM STOCKS_DB.STOCKS_ANALYTICS.FACT_STOCK_PRICE fsp\n    JOIN STOCKS_DB.STOCKS_ANALYTICS.DIM_STOCK ds ON ds.STOCK_ID = fsp.STOCK_ID\n    WHERE fsp.TICKER_TIME >= DATEADD(HOUR, -1, CURRENT_TIMESTAMP())\n),\nopen_close AS (\n    SELECT\n        SYMBOL,\n        MAX(CASE WHEN rn_asc = 1 THEN CLOSE END) AS OPEN_PRICE,\n        MAX(CASE WHEN rn_desc = 1 THEN CLOSE END) AS CLOSE_PRICE\n    FROM prices\n    GROUP BY SYMBOL\n)\nSELECT\n    SYMBOL,\n    OPEN_PRICE,\n    CLOSE_PRICE,\n    ROUND(((CLOSE_PRICE - OPEN_PRICE) / NULLIF(OPEN_PRICE, 0)) * 100, 2) AS PERCENT_CHANGE\nFROM open_close\nORDER BY PERCENT_CHANGE DESC\nLIMIT 10;\n",
   "execution_count": null
  },
  {
   "cell_type": "markdown",
   "id": "4e51b3bf-26fb-4537-ad32-97a3156ac82a",
   "metadata": {
    "name": "cell24",
    "collapsed": false
   },
   "source": "### Volume Spikes by Symbol (Last 30 Minutes vs 24hr Avg)"
  },
  {
   "cell_type": "code",
   "id": "c8a4f1d7-1c1e-4089-8aec-db4b40adde62",
   "metadata": {
    "language": "sql",
    "name": "cell23"
   },
   "outputs": [],
   "source": "CREATE OR REPLACE VIEW STOCKS_DB.STOCKS_ANALYTICS.VW_VOLUME_SPIKE_ALERTS AS\nWITH last_30 AS (\n    SELECT\n        ds.SYMBOL,\n        SUM(fsp.VOLUME) AS volume_last_30\n    FROM STOCKS_DB.STOCKS_ANALYTICS.FACT_STOCK_PRICE fsp\n    JOIN STOCKS_DB.STOCKS_ANALYTICS.DIM_STOCK ds ON ds.STOCK_ID = fsp.STOCK_ID\n    WHERE fsp.TICKER_TIME >= DATEADD(MINUTE, -30, CURRENT_TIMESTAMP())\n    GROUP BY ds.SYMBOL\n),\nlast_24hr AS (\n    SELECT\n        ds.SYMBOL,\n        AVG(fsp.VOLUME) AS avg_volume_24hr\n    FROM STOCKS_DB.STOCKS_ANALYTICS.FACT_STOCK_PRICE fsp\n    JOIN STOCKS_DB.STOCKS_ANALYTICS.DIM_STOCK ds ON ds.STOCK_ID = fsp.STOCK_ID\n    WHERE fsp.TICKER_TIME >= DATEADD(HOUR, -24, CURRENT_TIMESTAMP())\n    GROUP BY ds.SYMBOL\n)\nSELECT\n    l30.SYMBOL,\n    l30.volume_last_30,\n    l24.avg_volume_24hr,\n    ROUND(l30.volume_last_30 / NULLIF(l24.avg_volume_24hr, 0), 2) AS spike_ratio\nFROM last_30 l30\nJOIN last_24hr l24 ON l30.SYMBOL = l24.SYMBOL\nWHERE l30.volume_last_30 / NULLIF(l24.avg_volume_24hr, 0) > 2  -- Only show spikes > 2x\nORDER BY spike_ratio DESC;\n",
   "execution_count": null
  },
  {
   "cell_type": "markdown",
   "id": "fddc2042-c2df-494e-984c-760a5b312035",
   "metadata": {
    "name": "cell25",
    "collapsed": false
   },
   "source": "### Hourly OHLC Summary (Candlestick)"
  },
  {
   "cell_type": "code",
   "id": "e2f87a8a-2cc3-494e-bd6d-dd08783ee4ea",
   "metadata": {
    "language": "sql",
    "name": "cell26"
   },
   "outputs": [],
   "source": "CREATE OR REPLACE VIEW STOCKS_DB.STOCKS_ANALYTICS.VW_HOURLY_CANDLESTICK AS\nWITH hourly_data AS (\n    SELECT\n        ds.SYMBOL,\n        DATE_TRUNC('HOUR', fsp.TICKER_TIME) AS HOUR_BUCKET,\n        fsp.TICKER_TIME,\n        fsp.OPEN, fsp.HIGH, fsp.LOW, fsp.CLOSE\n    FROM STOCKS_DB.STOCKS_ANALYTICS.FACT_STOCK_PRICE fsp\n    JOIN STOCKS_DB.STOCKS_ANALYTICS.DIM_STOCK ds ON ds.STOCK_ID = fsp.STOCK_ID\n    WHERE fsp.TICKER_TIME >= DATEADD(DAY, -1, CURRENT_TIMESTAMP())\n),\nranked AS (\n    SELECT *,\n        ROW_NUMBER() OVER (PARTITION BY SYMBOL, HOUR_BUCKET ORDER BY TICKER_TIME ASC) AS rn_open,\n        ROW_NUMBER() OVER (PARTITION BY SYMBOL, HOUR_BUCKET ORDER BY TICKER_TIME DESC) AS rn_close\n    FROM hourly_data\n)\nSELECT\n    SYMBOL,\n    HOUR_BUCKET,\n    MAX(CASE WHEN rn_open = 1 THEN OPEN END) AS OPEN_PRICE,\n    MAX(HIGH) AS HIGH_PRICE,\n    MIN(LOW) AS LOW_PRICE,\n    MAX(CASE WHEN rn_close = 1 THEN CLOSE END) AS CLOSE_PRICE\nFROM ranked\nGROUP BY SYMBOL, HOUR_BUCKET\nORDER BY SYMBOL, HOUR_BUCKET;\n",
   "execution_count": null
  }
 ]
}